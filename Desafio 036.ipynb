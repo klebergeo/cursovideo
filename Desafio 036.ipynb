{
 "cells": [
  {
   "attachments": {},
   "cell_type": "markdown",
   "metadata": {},
   "source": [
    "Desafio 036 - Escreva um programa para aprovar o empréstimo bancário para a compra de uma casa. Pergunte o valor da casa, o salário do comprador e em quantos anos ele vai pagar. A prestação mensal não pode exceder 30% do salário ou então o empréstimo será negado."
   ]
  },
  {
   "cell_type": "code",
   "execution_count": null,
   "metadata": {},
   "outputs": [],
   "source": [
    "casa = float(input('Qual o valor da casa? '))\n",
    "salario = float(input('Qual o salário do comprador: '))\n",
    "tempo = int(input('Quantos anos deseja financias? '))\n",
    "prestacao = casa/(tempo*12)\n",
    "percentual = (prestacao/salario) * 100\n",
    "print('Para pagar uma casa de R$ {} em {} anos, a prestação será de R$ {:.2f}.'.format(casa, tempo, prestacao))\n",
    "if percentual > 30:\n",
    "    print('Empréstimo NEGADO!')\n",
    "else:\n",
    "    print('Empréstimo CONCEDIDO!')"
   ]
  }
 ],
 "metadata": {
  "kernelspec": {
   "display_name": "Python 3",
   "language": "python",
   "name": "python3"
  },
  "language_info": {
   "codemirror_mode": {
    "name": "ipython",
    "version": 3
   },
   "file_extension": ".py",
   "mimetype": "text/x-python",
   "name": "python",
   "nbconvert_exporter": "python",
   "pygments_lexer": "ipython3",
   "version": "3.9.4"
  },
  "orig_nbformat": 4
 },
 "nbformat": 4,
 "nbformat_minor": 2
}
