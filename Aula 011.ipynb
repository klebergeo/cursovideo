{
 "cells": [
  {
   "attachments": {},
   "cell_type": "markdown",
   "metadata": {},
   "source": [
    "Aula 011 - Cores no Terminal"
   ]
  },
  {
   "cell_type": "code",
   "execution_count": null,
   "metadata": {},
   "outputs": [],
   "source": [
    "#\\033[style;text;backm]\n",
    "print('\\033[31mOlá, Mundo!')\n",
    "print('\\033[31;43mOlá, Mundo!')\n",
    "print('\\033[1;31;43mOlá, Mundo!')\n",
    "print('\\033[2;33;45mOlá, Mundo!')\n",
    "print('\\033[7;30mOlá, Mundo!')\n",
    "print('\\033[0;33;44mOlá, Mundo!')"
   ]
  },
  {
   "cell_type": "code",
   "execution_count": null,
   "metadata": {},
   "outputs": [],
   "source": [
    "a = 3\n",
    "b = 5\n",
    "print('Os valores são {}{}{} e {}{}{}'.format('\\033[4;31;43m', a, '\\033[m', '\\033[2;40m', b, '\\033[m'))"
   ]
  },
  {
   "cell_type": "code",
   "execution_count": null,
   "metadata": {},
   "outputs": [],
   "source": [
    "nome = 'Kleber'\n",
    "cores = {'limpa':'\\033[m',\n",
    "        'azul':'\\033[34m',\n",
    "        'amarelo':'\\033[33m', 'pretoebranco':'\\033[7;30m'}\n",
    "print('Olá! Muito prazer em te conhecer, {}{}{}!!'.format(cores['pretoebranco'], nome, cores['limpa']))"
   ]
  }
 ],
 "metadata": {
  "kernelspec": {
   "display_name": "Python 3",
   "language": "python",
   "name": "python3"
  },
  "language_info": {
   "codemirror_mode": {
    "name": "ipython",
    "version": 3
   },
   "file_extension": ".py",
   "mimetype": "text/x-python",
   "name": "python",
   "nbconvert_exporter": "python",
   "pygments_lexer": "ipython3",
   "version": "3.9.4"
  },
  "orig_nbformat": 4
 },
 "nbformat": 4,
 "nbformat_minor": 2
}
