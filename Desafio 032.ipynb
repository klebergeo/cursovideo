{
 "cells": [
  {
   "attachments": {},
   "cell_type": "markdown",
   "metadata": {},
   "source": [
    "Desafio 032 - Faça um programa que leia um ano qualquer e mostre se ele é bissexto."
   ]
  },
  {
   "cell_type": "code",
   "execution_count": null,
   "metadata": {},
   "outputs": [],
   "source": [
    "from datetime import date\n",
    "ano = int(input('Qua ano quer analisar?Coloque 0 para analisar o ano atual: '))\n",
    "if ano == 0:\n",
    "    ano = date.today().year\n",
    "if ano % 4 == 0 and ano % 100 !=0 or ano % 400 == 0:\n",
    "    print('O ano {} é BISSEXTO'.format(ano))\n",
    "else:\n",
    "    print('O ano {} é NÃO é BISSEXTO'.format(ano))"
   ]
  }
 ],
 "metadata": {
  "kernelspec": {
   "display_name": "Python 3",
   "language": "python",
   "name": "python3"
  },
  "language_info": {
   "codemirror_mode": {
    "name": "ipython",
    "version": 3
   },
   "file_extension": ".py",
   "mimetype": "text/x-python",
   "name": "python",
   "nbconvert_exporter": "python",
   "pygments_lexer": "ipython3",
   "version": "3.9.4"
  },
  "orig_nbformat": 4
 },
 "nbformat": 4,
 "nbformat_minor": 2
}
