{
 "cells": [
  {
   "attachments": {},
   "cell_type": "markdown",
   "metadata": {},
   "source": [
    "Desafio 034 - Escreva um programa que pergunte o salário de um funcionário e calcule o valor do seu aumento. Para salários superiores a R$1250,00, calcule um aumento de 10%. Para os inferiores ou iguais, o aumento é de 15%."
   ]
  },
  {
   "cell_type": "code",
   "execution_count": 2,
   "metadata": {},
   "outputs": [
    {
     "name": "stdout",
     "output_type": "stream",
     "text": [
      "Quem ganhava R$ 1000 passa a ganhar R$ 1150.0 agora.\n"
     ]
    }
   ],
   "source": [
    "salario = int(input('Qual é o salário do funcionário? '))\n",
    "if salario > 1250:\n",
    "    print('Quem ganhava R$ {} passa a ganhar R$ {} agora.'.format(salario, salario + (10/100*salario)))\n",
    "else:\n",
    "    print('Quem ganhava R$ {} passa a ganhar R$ {} agora.'.format(salario, salario + (15/100*salario)))"
   ]
  }
 ],
 "metadata": {
  "kernelspec": {
   "display_name": "Python 3",
   "language": "python",
   "name": "python3"
  },
  "language_info": {
   "codemirror_mode": {
    "name": "ipython",
    "version": 3
   },
   "file_extension": ".py",
   "mimetype": "text/x-python",
   "name": "python",
   "nbconvert_exporter": "python",
   "pygments_lexer": "ipython3",
   "version": "3.9.4"
  },
  "orig_nbformat": 4
 },
 "nbformat": 4,
 "nbformat_minor": 2
}
