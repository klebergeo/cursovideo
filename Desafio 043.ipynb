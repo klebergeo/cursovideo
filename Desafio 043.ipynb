{
 "cells": [
  {
   "attachments": {},
   "cell_type": "markdown",
   "metadata": {},
   "source": [
    "Desafio 043 - Desenvolva uma lógica que leia o peso e a altura de uma pessoa, calcule seu Índice de Massa Corporal (IMC) e mostre seu status, de acordo com a tabela abaixo:\n",
    "- IMC abaixo de 18,5: Abaixo do Peso\n",
    "- Entre 18,5 e 25: Peso Ideal\n",
    "- 25 até 30: Sobrepeso\n",
    "- 30 até 40: Obesidade\n",
    "- Acima de 40: Obesidade Mórbida"
   ]
  },
  {
   "cell_type": "code",
   "execution_count": null,
   "metadata": {},
   "outputs": [],
   "source": [
    "peso = float(input('Qual é o seu peso(Kg)? '))\n",
    "altura = float(input('Qual é a sua altura(m)? '))\n",
    "imc = peso/(altura*altura)\n",
    "print('O IMC dessa pessoa é de {:.1f}.'.format(imc))\n",
    "if imc <18.5:\n",
    "    print('Abaixo do Peso.')\n",
    "elif 18.5 <= imc < 25:\n",
    "    print('Peso Ideal')\n",
    "elif 25 <= imc < 30:\n",
    "    print('Sobrepeso')\n",
    "elif 30 <= imc < 40:\n",
    "    print('Obesidade')\n",
    "else:\n",
    "    print('Obesidade Mórbida')"
   ]
  },
  {
   "cell_type": "code",
   "execution_count": null,
   "metadata": {},
   "outputs": [],
   "source": []
  }
 ],
 "metadata": {
  "kernelspec": {
   "display_name": "Python 3",
   "language": "python",
   "name": "python3"
  },
  "language_info": {
   "codemirror_mode": {
    "name": "ipython",
    "version": 3
   },
   "file_extension": ".py",
   "mimetype": "text/x-python",
   "name": "python",
   "nbconvert_exporter": "python",
   "pygments_lexer": "ipython3",
   "version": "3.9.4"
  },
  "orig_nbformat": 4
 },
 "nbformat": 4,
 "nbformat_minor": 2
}
