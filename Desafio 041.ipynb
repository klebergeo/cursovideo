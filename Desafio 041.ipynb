{
 "cells": [
  {
   "cell_type": "markdown",
   "metadata": {},
   "source": [
    "Exercício Python 041: A Confederação Nacional de Natação precisa de um programa que leia o ano de nascimento de um atleta e mostre sua categoria, de acordo com a idade:\n",
    "- Até 9 anos: MIRIM\n",
    "- Até 14 anos: INFANTIL\n",
    "- Até 19 anos: JÚNIOR\n",
    "- Até 25 anos: SÊNIOR\n",
    "- Acima de 25 anos: MASTER"
   ]
  },
  {
   "cell_type": "code",
   "execution_count": null,
   "metadata": {},
   "outputs": [],
   "source": [
    "from datetime import date\n",
    "ano = int(input('Ano de nascimento: '))\n",
    "atual = date.today().year\n",
    "idade = atual - ano\n",
    "print('O atleta tem {} anos.'.format(idade))\n",
    "if idade <= 9:\n",
    "    print('Classificação: MIRIM')\n",
    "elif idade > 9 and idade <= 14:\n",
    "    print('Classificação: INFANTIL')\n",
    "elif idade > 14 and idade <= 19:\n",
    "    print('Classificação: JÚNIOR')\n",
    "elif idade > 19 and idade <= 25:\n",
    "    print('Classificação: SÊNIOR')\n",
    "else:\n",
    "    print('Classificação: MASTER')"
   ]
  }
 ],
 "metadata": {
  "kernelspec": {
   "display_name": "Python 3",
   "language": "python",
   "name": "python3"
  },
  "language_info": {
   "codemirror_mode": {
    "name": "ipython",
    "version": 3
   },
   "file_extension": ".py",
   "mimetype": "text/x-python",
   "name": "python",
   "nbconvert_exporter": "python",
   "pygments_lexer": "ipython3",
   "version": "3.9.4"
  },
  "orig_nbformat": 4
 },
 "nbformat": 4,
 "nbformat_minor": 2
}
