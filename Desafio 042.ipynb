{
 "cells": [
  {
   "attachments": {},
   "cell_type": "markdown",
   "metadata": {},
   "source": [
    "Desafio 042 - Refaça o DESAFIO 035 dos triângulos, acrescentando o recurso de mostrar que tipo de triângulo será formado:\n",
    "- EQUILÁTERO: todos os lados iguais\n",
    "- ISÓSCELES: dois lados iguais, um diferente\n",
    "- ESCALENO: todos os lados diferentes."
   ]
  },
  {
   "cell_type": "code",
   "execution_count": null,
   "metadata": {},
   "outputs": [],
   "source": [
    "s1 = int(input('Primeiro segmento: '))\n",
    "s2 = int(input('Segundo segmento: '))\n",
    "s3 = int(input('Terceiro segmento: '))\n",
    "\n",
    "if s1<s2+s3 and s2<s1+s3 and s3<s1+s2:\n",
    "    print('Os segmentos acima PODEM FORMAR um triângulo', end=' ')\n",
    "    if s1 == s2 == s3:\n",
    "        print('EQUILÁTERO!')\n",
    "    elif s1 != s2 != s3 != s1:\n",
    "        print('ESCALENO!')\n",
    "    else:\n",
    "        print('ISÓSCELES!')\n",
    "else:\n",
    "    print('Os segmentos mencionados NÃO PODEM FORMAR triângulo!')"
   ]
  }
 ],
 "metadata": {
  "kernelspec": {
   "display_name": "Python 3",
   "language": "python",
   "name": "python3"
  },
  "language_info": {
   "codemirror_mode": {
    "name": "ipython",
    "version": 3
   },
   "file_extension": ".py",
   "mimetype": "text/x-python",
   "name": "python",
   "nbconvert_exporter": "python",
   "pygments_lexer": "ipython3",
   "version": "3.9.4"
  },
  "orig_nbformat": 4
 },
 "nbformat": 4,
 "nbformat_minor": 2
}
