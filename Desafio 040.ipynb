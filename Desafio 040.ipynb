{
 "cells": [
  {
   "attachments": {},
   "cell_type": "markdown",
   "metadata": {},
   "source": [
    "Desafio 040 - Crie um programa que leia duas notas de um aluno e calcule sua média, mostrando uma mensagem no final, de acordo com a média atingida:\n",
    "- Média abaixo de 5.0: REPROVADO\n",
    "- Média entre 5.0 e 6.9: RECUPERAÇÃO\n",
    "- Média 7.0 ou superior: APROVADO"
   ]
  },
  {
   "cell_type": "code",
   "execution_count": 5,
   "metadata": {},
   "outputs": [
    {
     "name": "stdout",
     "output_type": "stream",
     "text": [
      "Tirando 2.0 e 4.0, a média do aluno é de 3.0.\n",
      "REPROVADO\n"
     ]
    }
   ],
   "source": [
    "n1 = float(input('Primeira nota: '))\n",
    "n2 = float(input('Segunda nota: '))\n",
    "media = (n1+n2)/2\n",
    "print('Tirando {:.1f} e {:.1f}, a média do aluno é de {:.1f}.'.format(n1, n2, media))\n",
    "if media < 5.0:\n",
    "    print('REPROVADO')\n",
    "elif media >=5.0 and media <=6.9:\n",
    "    print('RECUPERAÇÃO')\n",
    "else:\n",
    "    print('APROVADO')"
   ]
  }
 ],
 "metadata": {
  "kernelspec": {
   "display_name": "Python 3",
   "language": "python",
   "name": "python3"
  },
  "language_info": {
   "codemirror_mode": {
    "name": "ipython",
    "version": 3
   },
   "file_extension": ".py",
   "mimetype": "text/x-python",
   "name": "python",
   "nbconvert_exporter": "python",
   "pygments_lexer": "ipython3",
   "version": "3.9.4"
  },
  "orig_nbformat": 4
 },
 "nbformat": 4,
 "nbformat_minor": 2
}
