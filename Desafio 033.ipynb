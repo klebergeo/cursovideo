{
 "cells": [
  {
   "attachments": {},
   "cell_type": "markdown",
   "metadata": {},
   "source": [
    "Desafio 033 - Faça um programa que leia três números e mostre qual é o maior e qual é o menor."
   ]
  },
  {
   "cell_type": "code",
   "execution_count": null,
   "metadata": {},
   "outputs": [],
   "source": [
    "v1 = int(input('Primeiro valor: '))\n",
    "v2 = int(input('Segundo valor: '))\n",
    "v3 = int(input('Terceiro valor: '))\n",
    "if v1<v2 and v1<v3:\n",
    "    print('O menor valor digitado foi {}'.format(v1))\n",
    "if v2<v1 and v2<v3:\n",
    "    print('O menor valor digitado foi {}'.format(v2))\n",
    "if v3<v1 and v3<v2:\n",
    "    print('O menor valor digitado foi {}'.format(v3))\n",
    "if v1>v2 and v1>v3:\n",
    "    print('O maior valor digitado foi {}'.format(v1))\n",
    "if v2>v1 and v2>v3:\n",
    "    print('O maior valor digitado foi {}'.format(v2))\n",
    "if v3>v1 and v3>v2:\n",
    "    print('O maior valor digitado foi {}'.format(v3))"
   ]
  }
 ],
 "metadata": {
  "kernelspec": {
   "display_name": "Python 3",
   "language": "python",
   "name": "python3"
  },
  "language_info": {
   "codemirror_mode": {
    "name": "ipython",
    "version": 3
   },
   "file_extension": ".py",
   "mimetype": "text/x-python",
   "name": "python",
   "nbconvert_exporter": "python",
   "pygments_lexer": "ipython3",
   "version": "3.9.4"
  },
  "orig_nbformat": 4
 },
 "nbformat": 4,
 "nbformat_minor": 2
}
