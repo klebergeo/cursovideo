{
 "cells": [
  {
   "attachments": {},
   "cell_type": "markdown",
   "metadata": {},
   "source": [
    "Desafio 028 - Escreva um programa que faça o computador \"pensar\" em um número inteiro entre 0 e 5 e peça para o usuário tentar descobrir qual foi o número escolhido pelo computador. O programa deverá escrever na tela se o usuário venceu ou perdeu."
   ]
  },
  {
   "cell_type": "code",
   "execution_count": null,
   "metadata": {},
   "outputs": [],
   "source": [
    "from random import randint\n",
    "from time import sleep\n",
    "print(20* '-=-'+'\\nVou pensar em um número entre 0 e 5. Tente advinhar...\\n'+20* '-=-')\n",
    "computador = randint(0,5)\n",
    "jogador = int(input('Em que número eu pensei? '))\n",
    "print('PROCESSANDO...')\n",
    "sleep(2)\n",
    "if jogador == computador:\n",
    "    print('PARABÉNS! Você conseguiu me vencer!')\n",
    "else:\n",
    "    print('GANHEI! Eu pensei no número {} e não no {}!'.format(computador, jogador))"
   ]
  }
 ],
 "metadata": {
  "kernelspec": {
   "display_name": "Python 3",
   "language": "python",
   "name": "python3"
  },
  "language_info": {
   "codemirror_mode": {
    "name": "ipython",
    "version": 3
   },
   "file_extension": ".py",
   "mimetype": "text/x-python",
   "name": "python",
   "nbconvert_exporter": "python",
   "pygments_lexer": "ipython3",
   "version": "3.9.4"
  },
  "orig_nbformat": 4
 },
 "nbformat": 4,
 "nbformat_minor": 2
}
