{
 "cells": [
  {
   "attachments": {},
   "cell_type": "markdown",
   "metadata": {},
   "source": [
    "Desafio 037 - Escreva um programa em Python que leia um número inteiro qualquer e peça para o usuário escolher qual será a base de conversão: 1 para binário, 2 para octal e 3 para hexadecimal."
   ]
  },
  {
   "cell_type": "code",
   "execution_count": null,
   "metadata": {},
   "outputs": [],
   "source": [
    "x = int(input('Digite um número inteiro: '))\n",
    "binario = bin(x)\n",
    "octal = oct(x)\n",
    "hexadecimal = hex(x)\n",
    "print('Escolha uma das bases para conversão:\\n[1] Converter para BINÁRIO\\n[2] Converter para OCTAL\\n[3] Converter para HEXADECIMAL')\n",
    "opcao= int(input('Sua opção: '))\n",
    "if opcao == 1:\n",
    "    print('{} convertido para BINÁRIO é igual a {}.'.format(x, binario[2::]))\n",
    "elif opcao == 2:\n",
    "    print('{} convertido para OCTAL é igual a {}.'.format(x, octal[2::]))\n",
    "elif opcao == 3:\n",
    "    print('{} convertido para HEXADECIMAL é igual a {}.'.format(x, hexadecimal[2::]))\n",
    "else:\n",
    "    print('O número {} é inválido. Retorne do começo!'.format(opcao))\n",
    "print('Fim do Programa!')    "
   ]
  }
 ],
 "metadata": {
  "kernelspec": {
   "display_name": "Python 3",
   "language": "python",
   "name": "python3"
  },
  "language_info": {
   "codemirror_mode": {
    "name": "ipython",
    "version": 3
   },
   "file_extension": ".py",
   "mimetype": "text/x-python",
   "name": "python",
   "nbconvert_exporter": "python",
   "pygments_lexer": "ipython3",
   "version": "3.9.4"
  },
  "orig_nbformat": 4
 },
 "nbformat": 4,
 "nbformat_minor": 2
}
