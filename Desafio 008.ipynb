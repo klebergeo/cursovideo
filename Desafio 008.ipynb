{
 "cells": [
  {
   "attachments": {},
   "cell_type": "markdown",
   "metadata": {},
   "source": [
    "Desafio 008 - Escreva um programa que leia um valor em metros e o exiba convertido em km, hm, dam, dm, cm, mm."
   ]
  },
  {
   "cell_type": "code",
   "execution_count": null,
   "metadata": {},
   "outputs": [],
   "source": [
    "m = float(input('Digite uma distância em metros: '))\n",
    "print('A medida de {} m corresponde a:\\n{} km\\n{} hm\\n{} dam\\n{:.0f} dm\\n{:.0f} cm\\n{:.0f} mm'.format(m, m/1000, m/100, m/10, m*10, m*100, m*1000))"
   ]
  }
 ],
 "metadata": {
  "kernelspec": {
   "display_name": "Python 3",
   "language": "python",
   "name": "python3"
  },
  "language_info": {
   "name": "python",
   "version": "3.9.4"
  },
  "orig_nbformat": 4
 },
 "nbformat": 4,
 "nbformat_minor": 2
}
