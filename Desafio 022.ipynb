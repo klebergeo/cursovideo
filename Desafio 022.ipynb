{
 "cells": [
  {
   "attachments": {},
   "cell_type": "markdown",
   "metadata": {},
   "source": [
    "Desafio 022 - Crie um programa que leia o nome completo de uma pessoa e mostre: \n",
    "- O nome com todas as letras maiúsculas e minúsculas.\n",
    "- Quantas letras ao todo (sem considerar espaços).\n",
    "- Quantas letras tem o primeiro nome."
   ]
  },
  {
   "cell_type": "code",
   "execution_count": null,
   "metadata": {},
   "outputs": [],
   "source": [
    "nome = str(input('Digite seu nome: ')).strip()\n",
    "print('Analisando seu nome...')\n",
    "print('Seu nome em maiúsculas é {}.\\nSeu nome em minúsculas é {}.\\nSeu nome tem ao todo {} letras.\\nSeu primeiro nome é {} e ele tem {} letras.'.format(nome.upper(), nome.lower(), len(nome.replace(' ', '')), nome.split()[0], len(nome.split()[0])))\n"
   ]
  }
 ],
 "metadata": {
  "kernelspec": {
   "display_name": "Python 3",
   "language": "python",
   "name": "python3"
  },
  "language_info": {
   "codemirror_mode": {
    "name": "ipython",
    "version": 3
   },
   "file_extension": ".py",
   "mimetype": "text/x-python",
   "name": "python",
   "nbconvert_exporter": "python",
   "pygments_lexer": "ipython3",
   "version": "3.9.4"
  },
  "orig_nbformat": 4
 },
 "nbformat": 4,
 "nbformat_minor": 2
}
