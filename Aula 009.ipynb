{
 "cells": [
  {
   "attachments": {},
   "cell_type": "markdown",
   "metadata": {},
   "source": [
    "Aula 009 - Manipulando Texto"
   ]
  },
  {
   "cell_type": "code",
   "execution_count": null,
   "metadata": {},
   "outputs": [],
   "source": [
    "frase = 'Curso em Vídeo Python'\n",
    "#Fatiamento de string\n",
    "print(frase[9::3])\n",
    "#Tamanho da string\n",
    "len(frase)\n",
    "#Contagem de string\n",
    "frase.count('o',0,13)\n",
    "#Encontrar string\n",
    "frase.find('Android')\n",
    "#Verifica se tem a string\n",
    "'Curso' in frase\n",
    "#Substitui elementos na frase\n",
    "print(frase.replace('Python', 'Android'))\n",
    "#Tudo em maíuscula\n",
    "frase.upper()\n",
    "#Tudo em minúsculo\n",
    "frase.lower()\n",
    "#Primeira letra da frase em maiúscula\n",
    "frase.capitalize()\n",
    "#Primeira letra de todas as palavras em maiúscula\n",
    "frase.title()\n",
    "#Tira espaços indesejados no início e no final\n",
    "frase.strip()\n",
    "#Tira espaços indesejados à direita\n",
    "frase.rstrip()\n",
    "#Tira espaços indesejados à esquerda\n",
    "frase.lstrip()\n",
    "#Divide cada palavra em um índice e forma uma lista\n",
    "frase.split()\n",
    "#Separa cada letra da string com o caractere escolhido\n",
    "'-'.join(frase)"
   ]
  }
 ],
 "metadata": {
  "kernelspec": {
   "display_name": "Python 3",
   "language": "python",
   "name": "python3"
  },
  "language_info": {
   "codemirror_mode": {
    "name": "ipython",
    "version": 3
   },
   "file_extension": ".py",
   "mimetype": "text/x-python",
   "name": "python",
   "nbconvert_exporter": "python",
   "pygments_lexer": "ipython3",
   "version": "3.9.4"
  },
  "orig_nbformat": 4
 },
 "nbformat": 4,
 "nbformat_minor": 2
}
