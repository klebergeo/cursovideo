{
 "cells": [
  {
   "attachments": {},
   "cell_type": "markdown",
   "metadata": {},
   "source": [
    "Faça um programa que leia algo pelo teclado e mostre na tela o seu tipo primitivo e todas as informações possíveis sobre ela."
   ]
  },
  {
   "cell_type": "code",
   "execution_count": null,
   "metadata": {},
   "outputs": [],
   "source": [
    "a = input('Digite algo:')\n",
    "print('O tipo primitivo de é', type(a))\n",
    "print('É um espaço?', a.isspace())\n",
    "print('É um número?', a.isnumeric())\n",
    "print('É alfabético?', a.isalpha())\n",
    "print('É um alfanumérico?', a.isalnum())\n",
    "print('Está em maiúsculas?', a.isupper())\n",
    "print('Está em minúsculas?', a.islower())\n",
    "print('Está capitalizada?', a.istitle())\n"
   ]
  }
 ],
 "metadata": {
  "kernelspec": {
   "display_name": "Python 3",
   "language": "python",
   "name": "python3"
  },
  "language_info": {
   "codemirror_mode": {
    "name": "ipython",
    "version": 3
   },
   "file_extension": ".py",
   "mimetype": "text/x-python",
   "name": "python",
   "nbconvert_exporter": "python",
   "pygments_lexer": "ipython3",
   "version": "3.9.4"
  },
  "orig_nbformat": 4
 },
 "nbformat": 4,
 "nbformat_minor": 2
}
