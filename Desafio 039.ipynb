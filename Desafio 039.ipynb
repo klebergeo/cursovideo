{
 "cells": [
  {
   "attachments": {},
   "cell_type": "markdown",
   "metadata": {},
   "source": [
    "Desafio 039 - Faça um programa que leia o ano de nascimento de um jovem e informe, de acordo com a sua idade, se ele ainda vai se alistar ao serviço militar, se é a hora exata de se alistar ou se já passou do tempo do alistamento. Seu programa também deverá mostrar o tempo que falta ou que passou do prazo."
   ]
  },
  {
   "cell_type": "code",
   "execution_count": null,
   "metadata": {},
   "outputs": [],
   "source": [
    "from datetime import date\n",
    "atual = date.today().year\n",
    "ano = int(input('Ano de nascimento: '))\n",
    "diferenca = atual - ano\n",
    "if diferenca > 18:\n",
    "    print('Quem nasceu em {} tem {} anos em {}.\\nVocê já deveria ter se alistado há {} anos.\\nSeu alistamento foi em {}.'.format(ano, diferenca, atual, diferenca-18, atual - (diferenca-18)))\n",
    "    \n",
    "elif diferenca < 18:\n",
    "    print('Quem nasceu em {} tem {} anos em {}.\\nAinda faltam {} anos para o alistamento.\\nSeu alistamento será em {}.'.format(ano, diferenca, atual, 18-diferenca, atual + (18-diferenca)))\n",
    "\n",
    "else:\n",
    "    print('Quem nasceu em {} tem {} anos em {}.\\nVocê deve se alistar este ano!'.format(ano, diferenca, atual))"
   ]
  }
 ],
 "metadata": {
  "kernelspec": {
   "display_name": "Python 3",
   "language": "python",
   "name": "python3"
  },
  "language_info": {
   "codemirror_mode": {
    "name": "ipython",
    "version": 3
   },
   "file_extension": ".py",
   "mimetype": "text/x-python",
   "name": "python",
   "nbconvert_exporter": "python",
   "pygments_lexer": "ipython3",
   "version": "3.9.4"
  },
  "orig_nbformat": 4
 },
 "nbformat": 4,
 "nbformat_minor": 2
}
