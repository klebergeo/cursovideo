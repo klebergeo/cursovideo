{
 "cells": [
  {
   "attachments": {},
   "cell_type": "markdown",
   "metadata": {},
   "source": [
    "Desafio 045 - Crie um programa que faça o computador jogar Jokenpô com você."
   ]
  },
  {
   "cell_type": "code",
   "execution_count": null,
   "metadata": {},
   "outputs": [],
   "source": [
    "from random import randint\n",
    "from time import sleep\n",
    "itens = ('Pedra', 'Papel', 'Tesoura')\n",
    "maquina = randint(0,2)\n",
    "print('Suas opções:\\n[0] PEDRA\\n[1] PAPEL\\n[2] TESOURA')\n",
    "jogador = int(input('Qual é a sua jogada? '))\n",
    "print('JO')\n",
    "sleep (1)\n",
    "print('KEN')\n",
    "sleep (1)\n",
    "print('PO!!!')\n",
    "sleep (1)\n",
    "print('-=' * 11)\n",
    "print('Computador jogou {}'.format(itens[maquina]))\n",
    "print('Jogador jogou {}'.format(itens[jogador]))\n",
    "print('-=' * 11)\n",
    "\n",
    "if maquina == 0:\n",
    "    if jogador == 0:\n",
    "        print('EMPATE')\n",
    "    elif jogador == 1:\n",
    "        print('JOGADOR VENCE')\n",
    "    elif jogador == 2:\n",
    "        print('COMPUTADOR VENCE')\n",
    "    else:\n",
    "        print('JOGADA INVÁLIDA!')\n",
    "elif maquina == 1:\n",
    "    if jogador == 0:\n",
    "        print('COMPUTADOR VENCE')\n",
    "    elif jogador == 1:\n",
    "        print('EMPATE')\n",
    "    elif jogador == 2:\n",
    "        print('JOGADOR VENCE')\n",
    "    else:\n",
    "        print('JOGADA INVÁLIDA!')\n",
    "elif maquina == 2:\n",
    "    if jogador == 0:\n",
    "        print('JOGADOR VENCE')\n",
    "    elif jogador == 1:\n",
    "        print('COMPUTADOR VENCE')\n",
    "    elif jogador == 2:\n",
    "        print('EMPATE')\n",
    "    else:\n",
    "        print('JOGADA INVÁLIDA!')"
   ]
  }
 ],
 "metadata": {
  "kernelspec": {
   "display_name": "Python 3",
   "language": "python",
   "name": "python3"
  },
  "language_info": {
   "codemirror_mode": {
    "name": "ipython",
    "version": 3
   },
   "file_extension": ".py",
   "mimetype": "text/x-python",
   "name": "python",
   "nbconvert_exporter": "python",
   "pygments_lexer": "ipython3",
   "version": "3.9.4"
  },
  "orig_nbformat": 4
 },
 "nbformat": 4,
 "nbformat_minor": 2
}
