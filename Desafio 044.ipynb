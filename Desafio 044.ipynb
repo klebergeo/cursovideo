{
 "cells": [
  {
   "attachments": {},
   "cell_type": "markdown",
   "metadata": {},
   "source": [
    "Desafio 044 - Elabore um programa que calcule o valor a ser pago por um produto, considerando o seu preço normal e condição de pagamento:\n",
    "- à vista dinheiro/cheque: 10% de desconto\n",
    "- à vista no cartão: 5% de desconto\n",
    "- em até 2x no cartão: preço formal\n",
    "- 3x ou mais no cartão: 20% de juros"
   ]
  },
  {
   "cell_type": "code",
   "execution_count": null,
   "metadata": {},
   "outputs": [],
   "source": [
    "compras = float(input('Preço das compras: R$ '))\n",
    "print('FORMAS DE PAGAMENTO\\n[1] à vista dinheiro/cheque\\n[2] à vista cartão\\n[3] 2x no cartão\\n[4] 3x ou mais no cartão')\n",
    "opcao = int(input('Qual é a opção? '))\n",
    "op1 = compras - (10/100*compras) \n",
    "op2 = compras - (5/100*compras)\n",
    "op3 = compras\n",
    "op4 = (20/100*compras) + compras\n",
    "if opcao == 1:\n",
    "    print('Sua compra de R${:.2f} vai custar R${:.2f} no final.'.format(compras, op1))\n",
    "elif opcao == 2:\n",
    "    print('Sua compra de R${:.2f} vai custar R${:.2f} no final.'.format(compras, op2))\n",
    "elif opcao == 3:\n",
    "    print('Sua compra de R${:.2f} vai custar R${:.2f} no final.'.format(compras, op3))\n",
    "else:\n",
    "    print('Sua compra de R${:.2f} vai custar R${:.2f} no final.'.format(compras, op4))"
   ]
  }
 ],
 "metadata": {
  "kernelspec": {
   "display_name": "Python 3",
   "language": "python",
   "name": "python3"
  },
  "language_info": {
   "codemirror_mode": {
    "name": "ipython",
    "version": 3
   },
   "file_extension": ".py",
   "mimetype": "text/x-python",
   "name": "python",
   "nbconvert_exporter": "python",
   "pygments_lexer": "ipython3",
   "version": "3.9.4"
  },
  "orig_nbformat": 4
 },
 "nbformat": 4,
 "nbformat_minor": 2
}
